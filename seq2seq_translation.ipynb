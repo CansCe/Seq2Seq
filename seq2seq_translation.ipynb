{
  "cells": [
    {
      "cell_type": "markdown",
      "metadata": {
        "id": "bZPaiwbEvLqP"
      },
      "source": [
        "\n",
        "\n",
        "# Practical PyTorch: Translation with a Sequence to Sequence Network and Attention\n",
        "\n",
        "In this project we will be teaching a neural network to translate from French to English.\n",
        "\n",
        "```\n",
        "[KEY: > input, = target, < output]\n",
        "\n",
        "> il est en train de peindre un tableau .\n",
        "= he is painting a picture .\n",
        "< he is painting a picture .\n",
        "\n",
        "> pourquoi ne pas essayer ce vin delicieux ?\n",
        "= why not try that delicious wine ?\n",
        "< why not try that delicious wine ?\n",
        "\n",
        "> elle n est pas poete mais romanciere .\n",
        "= she is not a poet but a novelist .\n",
        "< she not not a poet but a novelist .\n",
        "\n",
        "> vous etes trop maigre .\n",
        "= you re too skinny .\n",
        "< you re all alone .\n",
        "```\n",
        "\n",
        "... to varying degrees of success.\n",
        "\n",
        "This is made possible by the simple but powerful idea of the [sequence to sequence network](http://arxiv.org/abs/1409.3215), in which two recurrent neural networks work together to transform one sequence to another. An encoder network condenses an input sequence into a single vector, and a decoder network unfolds that vector into a new sequence.\n",
        "\n",
        "To improve upon this model we'll use an [attention mechanism](https://arxiv.org/abs/1409.0473), which lets the decoder learn to focus over a specific range of the input sequence."
      ]
    },
    {
      "cell_type": "markdown",
      "metadata": {
        "id": "YaA9mYJJvLqQ"
      },
      "source": [
        "# The Sequence to Sequence model\n",
        "\n",
        "A [Sequence to Sequence network](http://arxiv.org/abs/1409.3215), or seq2seq network, or [Encoder Decoder network](https://arxiv.org/pdf/1406.1078v3.pdf), is a model consisting of two separate RNNs called the **encoder** and **decoder**. The encoder reads an input sequence one item at a time, and outputs a vector at each step. The final output of the encoder is kept as the **context** vector. The decoder uses this context vector to produce a sequence of outputs one step at a time.\n",
        "\n",
        "![](https://i.imgur.com/tVtHhNp.png)\n",
        "\n",
        "When using a single RNN, there is a one-to-one relationship between inputs and outputs. We would quickly run into problems with different sequence orders and lengths that are common during translation. Consider the simple sentence \"Je ne suis pas le chat noir\" &rarr; \"I am not the black cat\". Many of the words have a pretty direct translation, like \"chat\" &rarr; \"cat\". However the differing grammars cause words to be in different orders, e.g. \"chat noir\" and \"black cat\". There is also the \"ne ... pas\" &rarr; \"not\" construction that makes the two sentences have different lengths.\n",
        "\n",
        "With the seq2seq model, by encoding many inputs into one vector, and decoding from one vector into many outputs, we are freed from the constraints of sequence order and length. The encoded sequence is represented by a single vector, a single point in some N dimensional space of sequences. In an ideal case, this point can be considered the \"meaning\" of the sequence.\n",
        "\n",
        "This idea can be extended beyond sequences. Image captioning tasks take an [image as input, and output a description](https://arxiv.org/abs/1411.4555) of the image (img2seq). Some image generation tasks take a [description as input and output a generated image](https://arxiv.org/abs/1511.02793) (seq2img). These models can be referred to more generally as \"encoder decoder\" networks."
      ]
    },
    {
      "cell_type": "markdown",
      "metadata": {
        "id": "mMfWlbfTvLqR"
      },
      "source": [
        "## The Attention Mechanism\n",
        "\n",
        "The fixed-length vector carries the burden of encoding the the entire \"meaning\" of the input sequence, no matter how long that may be. With all the variance in language, this is a very hard problem. Imagine two nearly identical sentences, twenty words long, with only one word different. Both the encoders and decoders must be nuanced enough to represent that change as a very slightly different point in space.\n",
        "\n",
        "The **attention mechanism** [introduced by Bahdanau et al.](https://arxiv.org/abs/1409.0473) addresses this by giving the decoder a way to \"pay attention\" to parts of the input, rather than relying on a single vector. For every step the decoder can select a different part of the input sentence to consider.\n",
        "\n",
        "![](https://i.imgur.com/5y6SCvU.png)\n",
        "\n",
        "Attention is calculated with another feedforward layer in the decoder. This layer will use the current input and hidden state to create a new vector, which is the same size as the input sequence (in practice, a fixed maximum length). This vector is processed through softmax to create *attention weights*, which are multiplied by the encoders' outputs to create a new context vector, which is then used to predict the next output.\n",
        "\n",
        "![](https://i.imgur.com/K1qMPxs.png)"
      ]
    },
    {
      "cell_type": "markdown",
      "metadata": {
        "id": "VX2V9wmqvLqR"
      },
      "source": [
        "# Requirements\n",
        "\n",
        "You will need [PyTorch](http://pytorch.org/) to build and train the models, and [matplotlib](https://matplotlib.org/) for plotting training and visualizing attention outputs later."
      ]
    },
    {
      "cell_type": "code",
      "execution_count": 1,
      "metadata": {
        "collapsed": true,
        "id": "G3U7VG-0vLqR"
      },
      "outputs": [],
      "source": [
        "import unicodedata\n",
        "import string\n",
        "import re\n",
        "import random\n",
        "import time\n",
        "import math\n",
        "\n",
        "import torch\n",
        "import torch.nn as nn\n",
        "from torch.autograd import Variable\n",
        "from torch import optim\n",
        "import torch.nn.functional as F"
      ]
    },
    {
      "cell_type": "markdown",
      "metadata": {
        "id": "2oS5zju1vLqS"
      },
      "source": [
        "Here we will also define a constant to decide whether to use the GPU (with CUDA specifically) or the CPU. **If you don't have a GPU, set this to `False`**. Later when we create tensors, this variable will be used to decide whether we keep them on CPU or move them to GPU."
      ]
    },
    {
      "cell_type": "code",
      "execution_count": 2,
      "metadata": {
        "collapsed": true,
        "id": "-nqWwWYRvLqS"
      },
      "outputs": [],
      "source": [
        "USE_CUDA = False"
      ]
    },
    {
      "cell_type": "markdown",
      "metadata": {
        "id": "NImFUdwnvLqS"
      },
      "source": [
        "# Loading data files\n",
        "\n",
        "The data for this project is a set of many thousands of English to French translation pairs.\n",
        "\n",
        "[This question on Open Data Stack Exchange](http://opendata.stackexchange.com/questions/3888/dataset-of-sentences-translated-into-many-languages) pointed me to the open translation site http://tatoeba.org/ which has downloads available at http://tatoeba.org/eng/downloads - and better yet, someone did the extra work of splitting language pairs into individual text files here: http://www.manythings.org/anki/\n",
        "\n",
        "The English to French pairs are too big to include in the repo, so download `fra-eng.zip`, extract the text file in there, and rename it to `data/eng-fra.txt` before continuing (for some reason the zipfile is named backwards). The file is a tab separated list of translation pairs:\n",
        "\n",
        "```\n",
        "I am cold.    J'ai froid.\n",
        "```"
      ]
    },
    {
      "cell_type": "markdown",
      "metadata": {
        "id": "gHDPK3GovLqS"
      },
      "source": [
        "Similar to the character encoding used in the character-level RNN tutorials, we will be representing each word in a language as a one-hot vector, or giant vector of zeros except for a single one (at the index of the word). Compared to the dozens of characters that might exist in a language, there are many many more words, so the encoding vector is much larger. We will however cheat a bit and trim the data to only use a few thousand words per language."
      ]
    },
    {
      "cell_type": "markdown",
      "metadata": {
        "id": "BF10FUsevLqS"
      },
      "source": [
        "### Indexing words\n",
        "\n",
        "We'll need a unique index per word to use as the inputs and targets of the networks later. To keep track of all this we will use a helper class called `Lang` which has word &rarr; index (`word2index`) and index &rarr; word (`index2word`) dictionaries, as well as a count of each word `word2count` to use to later replace rare words."
      ]
    },
    {
      "cell_type": "code",
      "execution_count": 3,
      "metadata": {
        "collapsed": true,
        "id": "xKqmhOYIvLqS"
      },
      "outputs": [],
      "source": [
        "SOS_token = 0\n",
        "EOS_token = 1\n",
        "\n",
        "class Lang:\n",
        "    def __init__(self, name):\n",
        "        self.name = name\n",
        "        self.word2index = {}\n",
        "        self.word2count = {}\n",
        "        self.index2word = {0: \"SOS\", 1: \"EOS\"}\n",
        "        self.n_words = 2 # Count SOS and EOS\n",
        "\n",
        "    def index_words(self, sentence):\n",
        "        for word in sentence.split(' '):\n",
        "            self.index_word(word)\n",
        "\n",
        "    def index_word(self, word):\n",
        "        if word not in self.word2index:\n",
        "            self.word2index[word] = self.n_words\n",
        "            self.word2count[word] = 1\n",
        "            self.index2word[self.n_words] = word\n",
        "            self.n_words += 1\n",
        "        else:\n",
        "            self.word2count[word] += 1"
      ]
    },
    {
      "cell_type": "markdown",
      "metadata": {
        "id": "MqWhtGLtvLqS"
      },
      "source": [
        "### Reading and decoding files\n",
        "\n",
        "The files are all in Unicode, to simplify we will turn Unicode characters to ASCII, make everything lowercase, and trim most punctuation."
      ]
    },
    {
      "cell_type": "code",
      "execution_count": 11,
      "metadata": {
        "id": "qPEUMiMRvLqS"
      },
      "outputs": [],
      "source": [
        "# Turn a Unicode string to plain ASCII, thanks to http://stackoverflow.com/a/518232/2809427\n",
        "def unicode_to_ascii(s):\n",
        "    return ''.join(\n",
        "        c for c in unicodedata.normalize('NFD', s)\n",
        "        if unicodedata.category(c) != 'Mn'\n",
        "    )\n",
        "\n",
        "# Lowercase, trim, and remove non-letter characters\n",
        "def normalize_string(s):\n",
        "    s = unicode_to_ascii(s.lower().strip())\n",
        "    s = re.sub(r\"([.!?])\", r\" \\1\", s)\n",
        "    s = re.sub(r\"[^a-zA-Z.!?]+\", r\" \", s)\n",
        "    return s"
      ]
    },
    {
      "cell_type": "markdown",
      "metadata": {
        "id": "Uazr5e7ivLqT"
      },
      "source": [
        "To read the data file we will split the file into lines, and then split lines into pairs. The files are all English &rarr; Other Language, so if we want to translate from Other Language &rarr; English I added the `reverse` flag to reverse the pairs."
      ]
    },
    {
      "cell_type": "code",
      "execution_count": 34,
      "metadata": {
        "collapsed": true,
        "id": "b7drdhVgvLqT"
      },
      "outputs": [],
      "source": [
        "def read_langs(lang1, lang2, reverse=False):\n",
        "    print(\"Reading lines...\")\n",
        "\n",
        "    # Read the file and split into lines\n",
        "    lines = open('Data1/%s-%s.txt' % (lang1, lang2),encoding =\"UTF-8\").read().strip().split('\\n')\n",
        "\n",
        "    # Split every line into pairs and normalize\n",
        "    pairs = [[normalize_string(s) for s in l.split('\\t')] for l in lines]\n",
        "    # Filter out empty or invalid lines\n",
        "    #pairs = [[normalize_string(s) for s in l.split('\\t')] for l in lines if len(l.split('\\t')) == 2]  # Only process lines with two elements after splitting\n",
        "    # Reverse pairs, make Lang instances\n",
        "    if reverse:\n",
        "        pairs = [list(reversed(p)) for p in pairs]\n",
        "        input_lang = Lang(lang2)\n",
        "        output_lang = Lang(lang1)\n",
        "    else:\n",
        "        input_lang = Lang(lang1)\n",
        "        output_lang = Lang(lang2)\n",
        "\n",
        "    return input_lang, output_lang, pairs"
      ]
    },
    {
      "cell_type": "markdown",
      "metadata": {
        "id": "Dt0GHkt5vLqT"
      },
      "source": [
        "### Filtering sentences\n",
        "\n",
        "Since there are a *lot* of example sentences and we want to train something quickly, we'll trim the data set to only relatively short and simple sentences. Here the maximum length is 10 words (that includes punctuation) and we're filtering to sentences that translate to the form \"I am\" or \"He is\" etc. (accounting for apostrophes being removed).\n",
        "To be fair the included data form could hold up to 50 word so the Max_Lenghth should be higher."
      ]
    },
    {
      "cell_type": "code",
      "execution_count": null,
      "metadata": {
        "id": "ZIVEtaKHvLqT"
      },
      "outputs": [],
      "source": [
        "MAX_LENGTH = 30\n",
        "\n",
        "def filter_pair(p):\n",
        "    return len(p[0].split(' ')) < MAX_LENGTH and len(p[1].split(' ')) < MAX_LENGTH\n",
        "\n",
        "def filter_pairs(pairs):\n",
        "    return [pair for pair in pairs if filter_pair(pair)]"
      ]
    },
    {
      "cell_type": "markdown",
      "metadata": {
        "id": "l62ujCI9vLqT"
      },
      "source": [
        "The full process for preparing the data is:\n",
        "\n",
        "* Read text file and split into lines, split lines into pairs\n",
        "* Normalize text, filter by length and content\n",
        "* Make word lists from sentences in pairs"
      ]
    },
    {
      "cell_type": "code",
      "execution_count": 17,
      "metadata": {
        "colab": {
          "base_uri": "https://localhost:8080/",
          "height": 388
        },
        "id": "9eMQL0RyvLqT",
        "outputId": "8d1bc43a-3869-4b51-b284-3f1c2c496a92"
      },
      "outputs": [
        {
          "name": "stdout",
          "output_type": "stream",
          "text": [
            "Reading lines...\n",
            "Read 232736 sentence pairs\n",
            "Trimmed to 232660 sentence pairs\n",
            "Indexing words...\n",
            "[' c est bon ? oui c est bon . ', ' does it taste good ? yes it does . ']\n"
          ]
        }
      ],
      "source": [
        "def prepare_data(lang1_name, lang2_name, reverse=False):\n",
        "    input_lang, output_lang, pairs = read_langs(lang1_name, lang2_name, reverse)\n",
        "    print(\"Read %s sentence pairs\" % len(pairs))\n",
        "\n",
        "    pairs = filter_pairs(pairs)\n",
        "    print(\"Trimmed to %s sentence pairs\" % len(pairs))\n",
        "\n",
        "    print(\"Indexing words...\")\n",
        "    for pair in pairs:\n",
        "        input_lang.index_words(pair[0])\n",
        "        output_lang.index_words(pair[1])\n",
        "\n",
        "    return input_lang, output_lang, pairs\n",
        "\n",
        "input_lang, output_lang, pairs = prepare_data('eng', 'fra', True)\n",
        "\n",
        "# Print an example pair\n",
        "print(random.choice(pairs))"
      ]
    },
    {
      "cell_type": "markdown",
      "metadata": {
        "id": "PkXW3gxpvLqT"
      },
      "source": [
        "## Turning training data into Tensors/Variables\n",
        "\n",
        "To train we need to turn the sentences into something the neural network can understand, which of course means numbers. Each sentence will be split into words and turned into a Tensor, where each word is replaced with the index (from the Lang indexes made earlier). While creating these tensors we will also append the EOS token to signal that the sentence is over.\n",
        "\n",
        "![](https://i.imgur.com/LzocpGH.png)\n",
        "\n",
        "A Tensor is a multi-dimensional array of numbers, defined with some type e.g. FloatTensor or LongTensor. In this case we'll be using LongTensor to represent an array of integer indexes.\n",
        "\n",
        "Trainable PyTorch modules take Variables as input, rather than plain Tensors. A Variable is basically a Tensor that is able to keep track of the graph state, which is what makes autograd (automatic calculation of backwards gradients) possible."
      ]
    },
    {
      "cell_type": "code",
      "execution_count": 18,
      "metadata": {
        "id": "YeVn8_9ZvLqT"
      },
      "outputs": [],
      "source": [
        "# Return a list of indexes, one for each word in the sentence\n",
        "def indexes_from_sentence(lang, sentence):\n",
        "    return [lang.word2index[word] for word in sentence.split(' ')]\n",
        "\n",
        "def variable_from_sentence(lang, sentence):\n",
        "    indexes = indexes_from_sentence(lang, sentence)\n",
        "    indexes.append(EOS_token)\n",
        "    var = Variable(torch.LongTensor(indexes).view(-1, 1))\n",
        "#     print('var =', var)\n",
        "    if USE_CUDA: var = var.cuda()\n",
        "    return var\n",
        "\n",
        "def variables_from_pair(pair):\n",
        "    input_variable = variable_from_sentence(input_lang, pair[0])\n",
        "    target_variable = variable_from_sentence(output_lang, pair[1])\n",
        "    return (input_variable, target_variable)"
      ]
    },
    {
      "cell_type": "markdown",
      "metadata": {
        "id": "6EKaC0A7vLqT"
      },
      "source": [
        "# Building the models"
      ]
    },
    {
      "cell_type": "markdown",
      "metadata": {
        "id": "TlFxQRISvLqT"
      },
      "source": [
        "## The Encoder\n",
        "\n",
        "<img src=\"Images/encoder-network.png\" style=\"float: right\" />\n",
        "\n",
        "The encoder of a seq2seq network is a RNN that outputs some value for every word from the input sentence. For every input word the encoder outputs a vector and a hidden state, and uses the hidden state for the next input word."
      ]
    },
    {
      "cell_type": "code",
      "execution_count": 19,
      "metadata": {
        "id": "G8oXP5H7vLqT"
      },
      "outputs": [],
      "source": [
        "class EncoderRNN(nn.Module):\n",
        "    def __init__(self, input_size, hidden_size, n_layers=1):\n",
        "        super(EncoderRNN, self).__init__()\n",
        "\n",
        "        self.input_size = input_size\n",
        "        self.hidden_size = hidden_size\n",
        "        self.n_layers = n_layers\n",
        "\n",
        "        self.embedding = nn.Embedding(input_size, hidden_size)\n",
        "        self.gru = nn.GRU(hidden_size, hidden_size, n_layers)\n",
        "\n",
        "    def forward(self, word_inputs, hidden):\n",
        "        # Note: we run this all at once (over the whole input sequence)\n",
        "        seq_len = len(word_inputs)\n",
        "        embedded = self.embedding(word_inputs).view(seq_len, 1, -1)\n",
        "        output, hidden = self.gru(embedded, hidden)\n",
        "        return output, hidden\n",
        "\n",
        "    def init_hidden(self):\n",
        "        hidden = Variable(torch.zeros(self.n_layers, 1, self.hidden_size))\n",
        "        if USE_CUDA: hidden = hidden.cuda()\n",
        "        return hidden"
      ]
    },
    {
      "cell_type": "markdown",
      "metadata": {
        "id": "UoPYfyoFvLqU"
      },
      "source": [
        "## Attention Decoder"
      ]
    },
    {
      "cell_type": "markdown",
      "metadata": {
        "id": "iL3F7bJxvLqU"
      },
      "source": [
        "### Interpreting the Bahdanau et al. model\n",
        "\n",
        "The attention model in [Neural Machine Translation by Jointly Learning to Align and Translate](https://arxiv.org/abs/1409.0473) is described as the following series of equations.\n",
        "\n",
        "Each decoder output is conditioned on the previous outputs and some $\\mathbf x$, where $\\mathbf x$ consists of the current hidden state (which takes into account previous outputs) and the attention \"context\", which is calculated below. The function $g$ is a fully-connected layer with a nonlinear activation, which takes as input the values $y_{i-1}$, $s_i$, and $c_i$ concatenated.\n",
        "\n",
        "$$\n",
        "p(y_i \\mid \\{y_1,...,y_{i-1}\\},\\mathbf{x}) = g(y_{i-1}, s_i, c_i)\n",
        "$$\n",
        "\n",
        "The current hidden state $s_i$ is calculated by an RNN $f$ with the last hidden state $s_{i-1}$, last decoder output value $y_{i-1}$, and context vector $c_i$.\n",
        "\n",
        "In the code, the RNN will be a `nn.GRU` layer, the hidden state $s_i$ will be called `hidden`, the output $y_i$ called `output`, and context $c_i$ called `context`.\n",
        "\n",
        "$$\n",
        "s_i = f(s_{i-1}, y_{i-1}, c_i)\n",
        "$$\n",
        "\n",
        "The context vector $c_i$ is a weighted sum of all encoder outputs, where each weight $a_{ij}$ is the amount of \"attention\" paid to the corresponding encoder output $h_j$.\n",
        "\n",
        "$$\n",
        "c_i = \\sum_{j=1}^{T_x} a_{ij} h_j\n",
        "$$\n",
        "\n",
        "... where each weight $a_{ij}$ is a normalized (over all steps) attention \"energy\" $e_{ij}$ ...\n",
        "\n",
        "$$\n",
        "a_{ij} = \\dfrac{exp(e_{ij})}{\\sum_{k=1}^{T} exp(e_{ik})}\n",
        "$$\n",
        "\n",
        "... where each attention energy is calculated with some function $a$ (such as another linear layer) using the last hidden state $s_{i-1}$ and that particular encoder output $h_j$:\n",
        "\n",
        "$$\n",
        "e_{ij} = a(s_{i-1}, h_j)\n",
        "$$"
      ]
    },
    {
      "cell_type": "markdown",
      "metadata": {
        "id": "gaG314PCvLqU"
      },
      "source": [
        "### Implementing the Bahdanau et al. model\n",
        "\n",
        "In summary our decoder should consist of four main parts - an embedding layer turning an input word into a vector; a layer to calculate the attention energy per encoder output; a RNN layer; and an output layer.\n",
        "\n",
        "The decoder's inputs are the last RNN hidden state $s_{i-1}$, last output $y_{i-1}$, and all encoder outputs $h_*$.\n",
        "\n",
        "* embedding layer with inputs $y_{i-1}$\n",
        "    * `embedded = embedding(last_rnn_output)`\n",
        "* attention layer $a$ with inputs $(s_{i-1}, h_j)$ and outputs $e_{ij}$, normalized to create $a_{ij}$\n",
        "    * `attn_energies[j] = attn_layer(last_hidden, encoder_outputs[j])`\n",
        "    * `attn_weights = normalize(attn_energies)`\n",
        "* context vector $c_i$ as an attention-weighted average of encoder outputs\n",
        "    * `context = sum(attn_weights * encoder_outputs)`\n",
        "* RNN layer(s) $f$ with inputs $(s_{i-1}, y_{i-1}, c_i)$ and internal hidden state, outputting $s_i$\n",
        "    * `rnn_input = concat(embedded, context)`\n",
        "    * `rnn_output, rnn_hidden = rnn(rnn_input, last_hidden)`\n",
        "* an output layer $g$ with inputs $(y_{i-1}, s_i, c_i)$, outputting $y_i$\n",
        "    * `output = out(embedded, rnn_output, context)`"
      ]
    },
    {
      "cell_type": "code",
      "execution_count": 20,
      "metadata": {
        "collapsed": true,
        "id": "Q4ra0ABNvLqU"
      },
      "outputs": [],
      "source": [
        "class BahdanauAttnDecoderRNN(nn.Module):\n",
        "    def __init__(self, hidden_size, output_size, n_layers=1, dropout_p=0.1):\n",
        "        super(AttnDecoderRNN, self).__init__()\n",
        "\n",
        "        # Define parameters\n",
        "        self.hidden_size = hidden_size\n",
        "        self.output_size = output_size\n",
        "        self.n_layers = n_layers\n",
        "        self.dropout_p = dropout_p\n",
        "        self.max_length = max_length\n",
        "\n",
        "        # Define layers\n",
        "        self.embedding = nn.Embedding(output_size, hidden_size)\n",
        "        self.dropout = nn.Dropout(dropout_p)\n",
        "        self.attn = GeneralAttn(hidden_size)\n",
        "        self.gru = nn.GRU(hidden_size * 2, hidden_size, n_layers, dropout=dropout_p)\n",
        "        self.out = nn.Linear(hidden_size, output_size)\n",
        "\n",
        "    def forward(self, word_input, last_hidden, encoder_outputs):\n",
        "        # Note that we will only be running forward for a single decoder time step, but will use all encoder outputs\n",
        "\n",
        "        # Get the embedding of the current input word (last output word)\n",
        "        word_embedded = self.embedding(word_input).view(1, 1, -1) # S=1 x B x N\n",
        "        word_embedded = self.dropout(word_embedded)\n",
        "\n",
        "        # Calculate attention weights and apply to encoder outputs\n",
        "        attn_weights = self.attn(last_hidden[-1], encoder_outputs)\n",
        "        context = attn_weights.bmm(encoder_outputs.transpose(0, 1)) # B x 1 x N\n",
        "\n",
        "        # Combine embedded input word and attended context, run through RNN\n",
        "        rnn_input = torch.cat((word_embedded, context), 2)\n",
        "        output, hidden = self.gru(rnn_input, last_hidden)\n",
        "\n",
        "        # Final output layer\n",
        "        output = output.squeeze(0) # B x N\n",
        "        output = F.log_softmax(self.out(torch.cat((output, context), 1)))\n",
        "\n",
        "        # Return final output, hidden state, and attention weights (for visualization)\n",
        "        return output, hidden, attn_weights"
      ]
    },
    {
      "cell_type": "markdown",
      "metadata": {
        "id": "Jpcw3BPwvLqU"
      },
      "source": [
        "### Interpreting the Luong et al. model(s)"
      ]
    },
    {
      "cell_type": "markdown",
      "metadata": {
        "id": "H9MfqP9xvLqU"
      },
      "source": [
        "[Effective Approaches to Attention-based Neural Machine Translation](https://arxiv.org/abs/1508.04025) by Luong et al. describe a few more attention models that offer improvements and simplifications. They describe a few \"global attention\" models, the distinction between them being the way the attention scores are calculated.\n",
        "\n",
        "The general form of the attention calculation relies on the target (decoder) side hidden state and corresponding source (encoder) side state, normalized over all states to get values summing to 1:\n",
        "\n",
        "$$\n",
        "a_t(s) = align(h_t, \\bar h_s)  = \\dfrac{exp(score(h_t, \\bar h_s))}{\\sum_{s'} exp(score(h_t, \\bar h_{s'}))}\n",
        "$$\n",
        "\n",
        "The specific \"score\" function that compares two states is either *dot*, a simple dot product between the states; *general*, a a dot product between the decoder hidden state and a linear transform of the encoder state; or *concat*, a dot product between a new parameter $v_a$ and a linear transform of the states concatenated together.\n",
        "\n",
        "$$\n",
        "score(h_t, \\bar h_s) =\n",
        "\\begin{cases}\n",
        "h_t ^\\top \\bar h_s & dot \\\\\n",
        "h_t ^\\top \\textbf{W}_a \\bar h_s & general \\\\\n",
        "v_a ^\\top \\textbf{W}_a [ h_t ; \\bar h_s ] & concat\n",
        "\\end{cases}\n",
        "$$\n",
        "\n",
        "The modular definition of these scoring functions gives us an opportunity to build specific attention module that can switch between the different score methods. The input to this module is always the hidden state (of the decoder RNN) and set of encoder outputs."
      ]
    },
    {
      "cell_type": "code",
      "execution_count": 21,
      "metadata": {
        "collapsed": true,
        "id": "NwupnVLwvLqU"
      },
      "outputs": [],
      "source": [
        "class Attn(nn.Module):\n",
        "    def __init__(self, method, hidden_size, max_length=MAX_LENGTH):\n",
        "        super(Attn, self).__init__()\n",
        "\n",
        "        self.method = method\n",
        "        self.hidden_size = hidden_size\n",
        "\n",
        "        if self.method == 'general':\n",
        "            self.attn = nn.Linear(self.hidden_size, hidden_size)\n",
        "\n",
        "        elif self.method == 'concat':\n",
        "            self.attn = nn.Linear(self.hidden_size * 2, hidden_size)\n",
        "            self.other = nn.Parameter(torch.FloatTensor(1, hidden_size))\n",
        "\n",
        "    def forward(self, hidden, encoder_outputs):\n",
        "        seq_len = len(encoder_outputs)\n",
        "\n",
        "        # Create variable to store attention energies\n",
        "        attn_energies = Variable(torch.zeros(seq_len)) # B x 1 x S\n",
        "        if USE_CUDA: attn_energies = attn_energies.cuda()\n",
        "\n",
        "        # Calculate energies for each encoder output\n",
        "        for i in range(seq_len):\n",
        "            attn_energies[i] = self.score(hidden, encoder_outputs[i])\n",
        "\n",
        "        # Normalize energies to weights in range 0 to 1, resize to 1 x 1 x seq_len\n",
        "        return F.softmax(attn_energies, dim = 0).unsqueeze(0).unsqueeze(0)\n",
        "\n",
        "    def score(self, hidden, encoder_output):\n",
        "\n",
        "        if self.method == 'dot':\n",
        "            #energy = hidden.dot(encoder_output)\n",
        "            #The hidden variable, representing the decoder's hidden state, is a 2-dimensional tensor of size [2, 1, 10], where 2 is the number of layers, 1 is the batch size, and 10 is the hidden size.\n",
        "            #The energy variable is derived from a linear transformation of the encoder output (encoder_output) using self.attn(encoder_output), and is also likely a 2-dimensional tensor.\n",
        "            energy = torch.sum(hidden[-1, 0] * encoder_output) # use last layer's hidden state and perform element-wise multiplication\n",
        "            return energy\n",
        "\n",
        "        elif self.method == 'general':\n",
        "            energy = self.attn(encoder_output)\n",
        "            energy = torch.sum(hidden[-1,0] * energy) # hidden[-1,0] selects the last layer (index -1) and the first element in the batch (index 0)\n",
        "            return energy\n",
        "\n",
        "        elif self.method == 'concat':\n",
        "            energy = self.attn(torch.cat((hidden, encoder_output), 1))\n",
        "            energy = self.other.dot(energy)\n",
        "            return energy"
      ]
    },
    {
      "cell_type": "markdown",
      "metadata": {
        "id": "EFGj6cLTvLqU"
      },
      "source": [
        "Now we can build a decoder that plugs this Attn module in after the RNN to calculate attention weights, and apply those weights to the encoder outputs to get a context vector."
      ]
    },
    {
      "cell_type": "code",
      "execution_count": 22,
      "metadata": {
        "id": "TSW2a2nYvLqU"
      },
      "outputs": [],
      "source": [
        "class AttnDecoderRNN(nn.Module):\n",
        "    def __init__(self, attn_model, hidden_size, output_size, n_layers=1, dropout_p=0.1):\n",
        "        super(AttnDecoderRNN, self).__init__()\n",
        "\n",
        "        # Keep parameters for reference\n",
        "        self.attn_model = attn_model\n",
        "        self.hidden_size = hidden_size\n",
        "        self.output_size = output_size\n",
        "        self.n_layers = n_layers\n",
        "        self.dropout_p = dropout_p\n",
        "\n",
        "        # Define layers\n",
        "        self.embedding = nn.Embedding(output_size, hidden_size)\n",
        "        self.gru = nn.GRU(hidden_size * 2, hidden_size, n_layers, dropout=dropout_p)\n",
        "        self.out = nn.Linear(hidden_size * 2, output_size)\n",
        "\n",
        "        # Choose attention model\n",
        "        if attn_model != 'none':\n",
        "            self.attn = Attn(attn_model, hidden_size)\n",
        "\n",
        "    def forward(self, word_input, last_context, last_hidden, encoder_outputs):\n",
        "        # Note: we run this one step at a time\n",
        "\n",
        "        # Get the embedding of the current input word (last output word)\n",
        "        word_embedded = self.embedding(word_input).view(1, 1, -1) # S=1 x B x N\n",
        "\n",
        "        # Combine embedded input word and last context, run through RNN\n",
        "        rnn_input = torch.cat((word_embedded, last_context.unsqueeze(0)), 2)\n",
        "        rnn_output, hidden = self.gru(rnn_input, last_hidden)\n",
        "\n",
        "        # Calculate attention from current RNN state and all encoder outputs; apply to encoder outputs\n",
        "        attn_weights = self.attn(rnn_output.squeeze(0), encoder_outputs)\n",
        "        context = attn_weights.bmm(encoder_outputs.transpose(0, 1)) # B x 1 x N\n",
        "\n",
        "        # Final output layer (next word prediction) using the RNN hidden state and context vector\n",
        "        rnn_output = rnn_output.squeeze(0) # S=1 x B x N -> B x N\n",
        "        context = context.squeeze(1)       # B x S=1 x N -> B x N\n",
        "        output = F.log_softmax(self.out(torch.cat((rnn_output, context), 1)),dim = 1)\n",
        "        # Return final output, hidden state, and attention weights (for visualization)\n",
        "        return output, context, hidden, attn_weights"
      ]
    },
    {
      "cell_type": "markdown",
      "metadata": {
        "id": "kY3lHUSbvLqU"
      },
      "source": [
        "### Testing the models\n",
        "\n",
        "To make sure the Encoder and Decoder model are working (and working together) we'll do a quick test with fake word inputs:"
      ]
    },
    {
      "cell_type": "code",
      "execution_count": 23,
      "metadata": {
        "id": "8blVmGTYvLqU",
        "scrolled": false
      },
      "outputs": [
        {
          "name": "stdout",
          "output_type": "stream",
          "text": [
            "EncoderRNN(\n",
            "  (embedding): Embedding(10, 10)\n",
            "  (gru): GRU(10, 10, num_layers=2)\n",
            ")\n",
            "AttnDecoderRNN(\n",
            "  (embedding): Embedding(10, 10)\n",
            "  (gru): GRU(20, 10, num_layers=2, dropout=0.1)\n",
            "  (out): Linear(in_features=20, out_features=10, bias=True)\n",
            "  (attn): Attn(\n",
            "    (attn): Linear(in_features=10, out_features=10, bias=True)\n",
            "  )\n",
            ")\n",
            "torch.Size([1, 10]) torch.Size([2, 1, 10]) torch.Size([1, 1, 3])\n",
            "torch.Size([1, 10]) torch.Size([2, 1, 10]) torch.Size([1, 1, 3])\n",
            "torch.Size([1, 10]) torch.Size([2, 1, 10]) torch.Size([1, 1, 3])\n"
          ]
        }
      ],
      "source": [
        "encoder_test = EncoderRNN(10, 10, 2)\n",
        "decoder_test = AttnDecoderRNN('general', 10, 10, 2)\n",
        "print(encoder_test)\n",
        "print(decoder_test)\n",
        "\n",
        "encoder_hidden = encoder_test.init_hidden()\n",
        "word_input = Variable(torch.LongTensor([1, 2, 3]))\n",
        "if USE_CUDA:\n",
        "    encoder_test.cuda()\n",
        "    word_input = word_input.cuda()\n",
        "encoder_outputs, encoder_hidden = encoder_test(word_input, encoder_hidden)\n",
        "\n",
        "word_inputs = Variable(torch.LongTensor([1, 2, 3]))\n",
        "decoder_attns = torch.zeros(1, 3, 3)\n",
        "decoder_hidden = encoder_hidden\n",
        "decoder_context = Variable(torch.zeros(1, decoder_test.hidden_size))\n",
        "\n",
        "if USE_CUDA:\n",
        "    decoder_test.cuda()\n",
        "    word_inputs = word_inputs.cuda()\n",
        "    decoder_context = decoder_context.cuda()\n",
        "\n",
        "for i in range(3):\n",
        "    decoder_output, decoder_context, decoder_hidden, decoder_attn = decoder_test(word_inputs[i], decoder_context, decoder_hidden, encoder_outputs)\n",
        "    print(decoder_output.size(), decoder_hidden.size(), decoder_attn.size())\n",
        "    decoder_attns[0, i] = decoder_attn.squeeze(0).cpu().data"
      ]
    },
    {
      "cell_type": "markdown",
      "metadata": {
        "id": "LxoyrXHmvLqV"
      },
      "source": [
        "# Training\n",
        "\n",
        "## Defining a training iteration\n",
        "\n",
        "To train we first run the input sentence through the encoder word by word, and keep track of every output and the latest hidden state. Next the decoder is given the last hidden state of the decoder as its first hidden state, and the `<SOS>` token as its first input. From there we iterate to predict a next token from the decoder.\n",
        "\n",
        "### Teacher Forcing and Scheduled Sampling\n",
        "\n",
        "\"Teacher Forcing\", or maximum likelihood sampling, means using the real target outputs as each next input when training. The alternative is using the decoder's own guess as the next input. Using teacher forcing may cause the network to converge faster, but [when the trained network is exploited, it may exhibit instability](http://minds.jacobs-university.de/sites/default/files/uploads/papers/ESNTutorialRev.pdf).\n",
        "\n",
        "You can observe outputs of teacher-forced networks that read with coherent grammar but wander far from the correct translation - you could think of it as having learned how to listen to the teacher's instructions, without learning how to venture out on its own.\n",
        "\n",
        "The solution to the teacher-forcing \"problem\" is known as [Scheduled Sampling](https://arxiv.org/abs/1506.03099), which simply alternates between using the target values and predicted values when training. We will randomly choose to use teacher forcing with an if statement while training - sometimes we'll feed use real target as the input (ignoring the decoder's output), sometimes we'll use the decoder's output."
      ]
    },
    {
      "cell_type": "code",
      "execution_count": 24,
      "metadata": {
        "id": "WnXsxQxzvLqV"
      },
      "outputs": [],
      "source": [
        "teacher_forcing_ratio = 0.5\n",
        "clip = 5.0\n",
        "\n",
        "def train(input_variable, target_variable, encoder, decoder, encoder_optimizer, decoder_optimizer, criterion, max_length=MAX_LENGTH):\n",
        "\n",
        "    # Zero gradients of both optimizers\n",
        "    encoder_optimizer.zero_grad()\n",
        "    decoder_optimizer.zero_grad()\n",
        "    loss = 0 # Added onto for each word\n",
        "\n",
        "    # Get size of input and target sentences\n",
        "    input_length = input_variable.size()[0]\n",
        "    target_length = target_variable.size()[0]\n",
        "\n",
        "    # Run words through encoder\n",
        "    encoder_hidden = encoder.init_hidden()\n",
        "    encoder_outputs, encoder_hidden = encoder(input_variable, encoder_hidden)\n",
        "\n",
        "    # Prepare input and output variables\n",
        "    decoder_input = Variable(torch.LongTensor([[SOS_token]]))\n",
        "    decoder_context = Variable(torch.zeros(1, decoder.hidden_size))\n",
        "    decoder_hidden = encoder_hidden # Use last hidden state from encoder to start decoder\n",
        "    if USE_CUDA:\n",
        "        decoder_input = decoder_input.cuda()\n",
        "        decoder_context = decoder_context.cuda()\n",
        "\n",
        "    # Choose whether to use teacher forcing\n",
        "    use_teacher_forcing = random.random() < teacher_forcing_ratio\n",
        "    if use_teacher_forcing:\n",
        "\n",
        "        # Teacher forcing: Use the ground-truth target as the next input\n",
        "        for di in range(target_length):\n",
        "            decoder_output, decoder_context, decoder_hidden, decoder_attention = decoder(decoder_input, decoder_context, decoder_hidden, encoder_outputs)\n",
        "            loss += criterion(decoder_output, target_variable[di])\n",
        "            decoder_input = target_variable[di] # Next target is next input\n",
        "\n",
        "    else:\n",
        "        # Without teacher forcing: use network's own prediction as the next input\n",
        "        for di in range(target_length):\n",
        "            decoder_output, decoder_context, decoder_hidden, decoder_attention = decoder(decoder_input, decoder_context, decoder_hidden, encoder_outputs)\n",
        "            loss += criterion(decoder_output, target_variable[di])\n",
        "\n",
        "            # Get most likely word index (highest value) from output\n",
        "            topv, topi = decoder_output.data.topk(1)\n",
        "            ni = topi[0][0]\n",
        "\n",
        "            decoder_input = Variable(torch.LongTensor([[ni]])) # Chosen word is next input\n",
        "            if USE_CUDA: decoder_input = decoder_input.cuda()\n",
        "\n",
        "            # Stop at end of sentence (not necessary when using known targets)\n",
        "            if ni == EOS_token: break\n",
        "\n",
        "    # Backpropagation\n",
        "    loss.backward()\n",
        "    #torch.nn.utils.clip_grad_norm(encoder.parameters(), clip)\n",
        "    #torch.nn.utils.clip_grad_norm(decoder.parameters(), clip)\n",
        "    #clip_grad_norm_ is the updated function for gradient clipping in PyTorch. -> using clip_grad_norm()\n",
        "    torch.nn.utils.clip_grad_norm_(encoder.parameters(), clip)\n",
        "    torch.nn.utils.clip_grad_norm_(decoder.parameters(), clip)\n",
        "    encoder_optimizer.step()\n",
        "    decoder_optimizer.step()\n",
        "\n",
        "    #return loss.data[0] / target_length\n",
        "    return loss.item() / target_length"
      ]
    },
    {
      "cell_type": "markdown",
      "metadata": {
        "id": "9hXTeZy-vLqV"
      },
      "source": [
        "Finally helper functions to print time elapsed and estimated time remaining, given the current time and progress."
      ]
    },
    {
      "cell_type": "code",
      "execution_count": 25,
      "metadata": {
        "id": "p5vtuQQdvLqV"
      },
      "outputs": [],
      "source": [
        "def as_minutes(s):\n",
        "    m = math.floor(s / 60)\n",
        "    s -= m * 60\n",
        "    return '%dm %ds' % (m, s)\n",
        "\n",
        "def time_since(since, percent):\n",
        "    now = time.time()\n",
        "    s = now - since\n",
        "    es = s / (percent)\n",
        "    rs = es - s\n",
        "    return '%s (- %s)' % (as_minutes(s), as_minutes(rs))"
      ]
    },
    {
      "cell_type": "markdown",
      "metadata": {
        "id": "Ywa1NRDNvLqe"
      },
      "source": [
        "## Running training\n",
        "\n",
        "With everything in place we can actually initialize a network and start training.\n",
        "\n",
        "To start, we initialize models, optimizers, and a loss function (criterion)."
      ]
    },
    {
      "cell_type": "code",
      "execution_count": 26,
      "metadata": {
        "id": "pzsDRTC9vLqe"
      },
      "outputs": [],
      "source": [
        "attn_model = 'general'\n",
        "hidden_size = 500\n",
        "n_layers = 2\n",
        "dropout_p = 0.05\n",
        "\n",
        "# Initialize models\n",
        "encoder = EncoderRNN(input_lang.n_words, hidden_size, n_layers)\n",
        "decoder = AttnDecoderRNN(attn_model, hidden_size, output_lang.n_words, n_layers, dropout_p=dropout_p)\n",
        "\n",
        "# Move models to GPU\n",
        "if USE_CUDA:\n",
        "    encoder.cuda()\n",
        "    decoder.cuda()\n",
        "\n",
        "# Initialize optimizers and criterion\n",
        "learning_rate = 0.0001\n",
        "encoder_optimizer = optim.Adam(encoder.parameters(), lr=learning_rate)\n",
        "decoder_optimizer = optim.Adam(decoder.parameters(), lr=learning_rate)\n",
        "criterion = nn.NLLLoss()"
      ]
    },
    {
      "cell_type": "markdown",
      "metadata": {
        "id": "UT_FYIdivLqe"
      },
      "source": [
        "Then set up variables for plotting and tracking progress:"
      ]
    },
    {
      "cell_type": "code",
      "execution_count": 27,
      "metadata": {
        "id": "_0_0fZDtvLqe"
      },
      "outputs": [],
      "source": [
        "# Configuring training\n",
        "n_epochs = 50000\n",
        "plot_every = 200\n",
        "print_every = 1000\n",
        "\n",
        "# Keep track of time elapsed and running averages\n",
        "start = time.time()\n",
        "plot_losses = []\n",
        "print_loss_total = 0 # Reset every print_every\n",
        "plot_loss_total = 0 # Reset every plot_every"
      ]
    },
    {
      "cell_type": "markdown",
      "metadata": {
        "id": "HIMDnu2nvLqe"
      },
      "source": [
        "To actually train, we call the train function many times, printing a summary as we go.\n",
        "\n",
        "*Note:* If you run this notebook you can train, interrupt the kernel, evaluate, and continue training later. You can comment out the lines above where the encoder and decoder are initialized (so they aren't reset) or simply run the notebook starting from the following cell."
      ]
    },
    {
      "cell_type": "code",
      "execution_count": null,
      "metadata": {
        "id": "xm0uWIMqvLqf",
        "scrolled": false
      },
      "outputs": [],
      "source": [
        "# Begin!\n",
        "for epoch in range(1, n_epochs + 1):\n",
        "\n",
        "    # Get training data for this cycle\n",
        "    training_pair = variables_from_pair(random.choice(pairs))\n",
        "    input_variable = training_pair[0]\n",
        "    target_variable = training_pair[1]\n",
        "\n",
        "    # Run the train function\n",
        "    loss = train(input_variable, target_variable, encoder, decoder, encoder_optimizer, decoder_optimizer, criterion)\n",
        "\n",
        "    # Keep track of loss\n",
        "    print_loss_total += loss\n",
        "    plot_loss_total += loss\n",
        "\n",
        "    if epoch == 0: continue\n",
        "\n",
        "    if epoch % print_every == 0:\n",
        "        print_loss_avg = print_loss_total / print_every\n",
        "        print_loss_total = 0\n",
        "        print_summary = '%s (%d %d%%) %.4f' % (time_since(start, epoch / n_epochs), epoch, epoch / n_epochs * 100, print_loss_avg)\n",
        "        print(print_summary)\n",
        "\n",
        "    if epoch % plot_every == 0:\n",
        "        plot_loss_avg = plot_loss_total / plot_every\n",
        "        plot_losses.append(plot_loss_avg)\n",
        "        plot_loss_total = 0"
      ]
    },
    {
      "cell_type": "code",
      "execution_count": 28,
      "metadata": {},
      "outputs": [],
      "source": [
        "# save the current model set in order to load an train it again\n",
        "def save_model(encoder, decoder, encoder_optimizer, decoder_optimizer, epoch, loss, filepath):\n",
        "  \"\"\"Saves the trained model to a specified filepath.\n",
        "\n",
        "  Args:\n",
        "    encoder: The trained encoder model.\n",
        "    decoder: The trained decoder model.\n",
        "    encoder_optimizer: The encoder optimizer.\n",
        "    decoder_optimizer: The decoder optimizer.\n",
        "    epoch: The current epoch number.\n",
        "    loss: The current loss value.\n",
        "    filepath: The path to save the model.\n",
        "  \"\"\"\n",
        "  torch.save({\n",
        "      'epoch': epoch,\n",
        "      'encoder_state_dict': encoder.state_dict(),\n",
        "      'decoder_state_dict': decoder.state_dict(),\n",
        "      'encoder_optimizer_state_dict': encoder_optimizer.state_dict(),\n",
        "      'decoder_optimizer_state_dict': decoder_optimizer.state_dict(),\n",
        "      'loss': loss,\n",
        "  }, filepath)\n",
        "  print(f\"Model saved to {filepath}\")"
      ]
    },
    {
      "cell_type": "code",
      "execution_count": 29,
      "metadata": {},
      "outputs": [
        {
          "name": "stdout",
          "output_type": "stream",
          "text": [
            "Model loaded successfully.\n"
          ]
        }
      ],
      "source": [
        "#  load the model\n",
        "import torch\n",
        "import torch.nn as nn\n",
        "from torch.autograd import Variable\n",
        "from torch import optim\n",
        "import torch.nn.functional as F\n",
        "\n",
        "# Assuming necessary classes (EncoderRNN, AttnDecoderRNN, Attn) and functions\n",
        "# (variables_from_pair, etc.) are defined in the preceding code.\n",
        "# Also assuming MAX_LENGTH, SOS_token, EOS_token, USE_CUDA, input_lang, output_lang, pairs\n",
        "# are defined.\n",
        "\n",
        "# Load the saved model\n",
        "checkpoint = torch.load('seq2seq_model.pth',weights_only=True)\n",
        "\n",
        "# Initialize models\n",
        "encoder = EncoderRNN(input_lang.n_words, hidden_size, n_layers) # Assuming hidden_size and n_layers are defined previously\n",
        "decoder = AttnDecoderRNN(attn_model, hidden_size, output_lang.n_words, n_layers, dropout_p=dropout_p) #attn_model and dropout_p defined previously\n",
        "\n",
        "# Load the state dictionaries from the checkpoint\n",
        "encoder.load_state_dict(checkpoint['encoder_state_dict'])\n",
        "decoder.load_state_dict(checkpoint['decoder_state_dict'])\n",
        "\n",
        "# Load optimizers (if needed for further training)\n",
        "encoder_optimizer = optim.Adam(encoder.parameters(), lr=learning_rate) # Assuming learning rate is defined\n",
        "decoder_optimizer = optim.Adam(decoder.parameters(), lr=learning_rate)\n",
        "encoder_optimizer.load_state_dict(checkpoint['encoder_optimizer_state_dict'])\n",
        "decoder_optimizer.load_state_dict(checkpoint['decoder_optimizer_state_dict'])\n",
        "\n",
        "\n",
        "# Move models to GPU\n",
        "if USE_CUDA:\n",
        "    encoder.cuda()\n",
        "    decoder.cuda()\n",
        "\n",
        "# Set the model to evaluation mode\n",
        "encoder.eval()\n",
        "decoder.eval()\n",
        "\n",
        "# The model is now loaded and ready for evaluation or further training.\n",
        "print(\"Model loaded successfully.\")"
      ]
    },
    {
      "cell_type": "code",
      "execution_count": 32,
      "metadata": {},
      "outputs": [
        {
          "data": {
            "text/plain": [
              "<Figure size 640x480 with 0 Axes>"
            ]
          },
          "metadata": {},
          "output_type": "display_data"
        },
        {
          "data": {
            "image/png": "[encoded data removed]",
            "text/plain": [
              "<Figure size 640x480 with 1 Axes>"
            ]
          },
          "metadata": {},
          "output_type": "display_data"
        }
      ],
      "source": [
        "import matplotlib.pyplot as plt\n",
        "import matplotlib.ticker as ticker\n",
        "import numpy as np\n",
        "%matplotlib inline\n",
        "\n",
        "def show_plot(points):\n",
        "    plt.figure()\n",
        "    fig, ax = plt.subplots()\n",
        "    loc = ticker.MultipleLocator(base=0.2) # put ticks at regular intervals\n",
        "    ax.yaxis.set_major_locator(loc)\n",
        "    plt.plot(points)\n",
        "\n",
        "show_plot(plot_losses)"
      ]
    },
    {
      "cell_type": "code",
      "execution_count": 31,
      "metadata": {},
      "outputs": [
        {
          "name": "stdout",
          "output_type": "stream",
          "text": [
            "9m 50s (- 88m 37s) (1000 10%) 2.3671\n",
            "19m 56s (- 79m 46s) (2000 20%) 2.4714\n",
            "32m 4s (- 74m 50s) (3000 30%) 2.5080\n",
            "43m 45s (- 65m 37s) (4000 40%) 2.3943\n",
            "55m 57s (- 55m 57s) (5000 50%) 2.3766\n",
            "67m 48s (- 45m 12s) (6000 60%) 2.4302\n",
            "80m 7s (- 34m 20s) (7000 70%) 2.4535\n",
            "91m 5s (- 22m 46s) (8000 80%) 2.3639\n",
            "101m 30s (- 11m 16s) (9000 90%) 2.4108\n",
            "112m 3s (- 0m 0s) (10000 100%) 2.3972\n"
          ]
        },
        {
          "data": {
            "text/plain": [
              "<Figure size 640x480 with 0 Axes>"
            ]
          },
          "metadata": {},
          "output_type": "display_data"
        },
        {
          "data": {
            "image/png": "[encoded data removed]",
            "text/plain": [
              "<Figure size 640x480 with 1 Axes>"
            ]
          },
          "metadata": {},
          "output_type": "display_data"
        }
      ],
      "source": [
        "import time\n",
        "import math\n",
        "\n",
        "n_epochs=10000\n",
        "learning_rate=0.0001\n",
        "print_every=1000\n",
        "plot_every=200\n",
        "encoder_optimizer = optim.Adam(encoder.parameters(), lr=learning_rate)\n",
        "decoder_optimizer = optim.Adam(decoder.parameters(), lr=learning_rate)\n",
        "criterion = nn.NLLLoss()\n",
        "start = time.time()\n",
        "plot_losses = []\n",
        "print_loss_total = 0\n",
        "plot_loss_total = 0\n",
        "with open(\"log.txt\",\"w\") as f:\n",
        "    for epoch in range(1, n_epochs + 1):\n",
        "        training_pair = variables_from_pair(random.choice(pairs))\n",
        "        input_variable = training_pair[0]\n",
        "        target_variable = training_pair[1]\n",
        "        loss = train(input_variable, target_variable, encoder, decoder, encoder_optimizer, decoder_optimizer, criterion)\n",
        "        print_loss_total += loss\n",
        "        plot_loss_total += loss\n",
        "            \n",
        "        if epoch % print_every == 0:\n",
        "            print_loss_avg = print_loss_total / print_every\n",
        "            print_loss_total = 0\n",
        "            print_summary = '%s (%d %d%%) %.4f' % (time_since(start, epoch / n_epochs), epoch, epoch / n_epochs * 100, print_loss_avg)\n",
        "            f.write(print_summary)\n",
        "            print(print_summary)\n",
        "        if epoch % plot_every == 0:\n",
        "            plot_loss_avg = plot_loss_total / plot_every\n",
        "            plot_losses.append(plot_loss_avg)\n",
        "            plot_loss_total = 0\n",
        "show_plot(plot_losses)"
      ]
    },
    {
      "cell_type": "code",
      "execution_count": 33,
      "metadata": {},
      "outputs": [
        {
          "name": "stdout",
          "output_type": "stream",
          "text": [
            "Model saved to seq2seq_model.pth\n"
          ]
        }
      ],
      "source": [
        "save_model(encoder, decoder, encoder_optimizer, decoder_optimizer, epoch, loss, 'seq2seq_model.pth')"
      ]
    },
    {
      "cell_type": "markdown",
      "metadata": {
        "id": "hrdN-TvGvLqf"
      },
      "source": [
        "## Plotting training loss\n",
        "\n",
        "Plotting is done with matplotlib, using the array `plot_losses` that was created while training."
      ]
    },
    {
      "cell_type": "code",
      "execution_count": 35,
      "metadata": {
        "id": "ieGY1BgYvLqf"
      },
      "outputs": [
        {
          "data": {
            "text/plain": [
              "<Figure size 640x480 with 0 Axes>"
            ]
          },
          "metadata": {},
          "output_type": "display_data"
        },
        {
          "data": {
            "image/png": "[encoded data removed]",
            "text/plain": [
              "<Figure size 640x480 with 1 Axes>"
            ]
          },
          "metadata": {},
          "output_type": "display_data"
        }
      ],
      "source": [
        "import matplotlib.pyplot as plt\n",
        "import matplotlib.ticker as ticker\n",
        "import numpy as np\n",
        "%matplotlib inline\n",
        "\n",
        "def show_plot(points):\n",
        "    plt.figure()\n",
        "    fig, ax = plt.subplots()\n",
        "    loc = ticker.MultipleLocator(base=0.2) # put ticks at regular intervals\n",
        "    ax.yaxis.set_major_locator(loc)\n",
        "    plt.plot(points)\n",
        "\n",
        "show_plot(plot_losses)"
      ]
    },
    {
      "cell_type": "markdown",
      "metadata": {
        "id": "t6U1CCqAvLqf"
      },
      "source": [
        "# Evaluating the network\n",
        "\n",
        "Evaluation is mostly the same as training, but there are no targets. Instead we always feed the decoder's predictions back to itself. Every time it predicts a word, we add it to the output string. If it predicts the EOS token we stop there. We also store the decoder's attention outputs for each step to display later."
      ]
    },
    {
      "cell_type": "code",
      "execution_count": 36,
      "metadata": {
        "id": "Mi_Qa-bpvLqf"
      },
      "outputs": [],
      "source": [
        "def evaluate(sentence, max_length=MAX_LENGTH):\n",
        "    input_words = sentence.split(' ')\n",
        "\n",
        "    # Convert words to indices, handling unknown words\n",
        "    indexes = []\n",
        "    for word in input_words:\n",
        "        # Check if the word is in the vocabulary, if not use '<unk>' token\n",
        "        # Add '<unk>' token to the vocabulary if it doesn't exist\n",
        "        if word not in input_lang.word2index:\n",
        "            if '<unk>' not in input_lang.word2index:\n",
        "                input_lang.index_word('<unk>')  # Add <unk> to the vocabulary\n",
        "            indexes.append(input_lang.word2index['<unk>'])  # Use <unk> token index\n",
        "        else:\n",
        "            indexes.append(input_lang.word2index[word])  # Use the word's index\n",
        "\n",
        "    input_variable = Variable(torch.LongTensor(indexes).view(-1, 1))\n",
        "    input_variable = variable_from_sentence(input_lang, sentence)\n",
        "    input_length = input_variable.size()[0]\n",
        "\n",
        "    # Run through encoder\n",
        "    encoder_hidden = encoder.init_hidden()\n",
        "    encoder_outputs, encoder_hidden = encoder(input_variable, encoder_hidden)\n",
        "\n",
        "    # Create starting vectors for decoder\n",
        "    decoder_input = Variable(torch.LongTensor([[SOS_token]])) # SOS\n",
        "    decoder_context = Variable(torch.zeros(1, decoder.hidden_size))\n",
        "    if USE_CUDA:\n",
        "        decoder_input = decoder_input.cuda()\n",
        "        decoder_context = decoder_context.cuda()\n",
        "\n",
        "    decoder_hidden = encoder_hidden\n",
        "\n",
        "    decoded_words = []\n",
        "    decoder_attentions = torch.zeros(max_length, max_length)\n",
        "\n",
        "    # Run through decoder\n",
        "    for di in range(max_length):\n",
        "        decoder_output, decoder_context, decoder_hidden, decoder_attention = decoder(decoder_input, decoder_context, decoder_hidden, encoder_outputs)\n",
        "        decoder_attentions[di,:decoder_attention.size(2)] += decoder_attention.squeeze(0).squeeze(0).cpu().data\n",
        "\n",
        "        # Choose top word from output\n",
        "        topv, topi = decoder_output.data.topk(1)\n",
        "        ni = topi[0][0].item() # Get the integer value of the predicted index\n",
        "\n",
        "        if ni == EOS_token:\n",
        "            decoded_words.append('<EOS>')\n",
        "            break\n",
        "        else:\n",
        "            decoded_words.append(output_lang.index2word[ni])\n",
        "\n",
        "        # Next input is chosen word\n",
        "        decoder_input = Variable(torch.LongTensor([[ni]]))\n",
        "        if USE_CUDA: decoder_input = decoder_input.cuda()\n",
        "\n",
        "    return decoded_words, decoder_attentions[:di+1, :len(encoder_outputs)]"
      ]
    },
    {
      "cell_type": "markdown",
      "metadata": {
        "id": "kcsWUq03vLqf"
      },
      "source": [
        "We can evaluate random sentences from the training set and print out the input, target, and output to make some subjective quality judgements:"
      ]
    },
    {
      "cell_type": "code",
      "execution_count": 37,
      "metadata": {
        "collapsed": true,
        "id": "lT-zw8UgvLqf"
      },
      "outputs": [],
      "source": [
        "def evaluate_randomly():\n",
        "    pair = random.choice(pairs)\n",
        "\n",
        "    output_words, decoder_attn = evaluate(pair[0])\n",
        "    output_sentence = ' '.join(output_words)\n",
        "\n",
        "    print('>', pair[0])\n",
        "    print('=', pair[1])\n",
        "    print('<', output_sentence)\n",
        "    print('')"
      ]
    },
    {
      "cell_type": "code",
      "execution_count": 52,
      "metadata": {
        "id": "5G70uNQMvLqf",
        "scrolled": false
      },
      "outputs": [
        {
          "name": "stdout",
          "output_type": "stream",
          "text": [
            "> il n y a personne dans la maison .\n",
            "= there s no one in the house .\n",
            "< there s no one in the house . <EOS>\n",
            "\n"
          ]
        }
      ],
      "source": [
        "evaluate_randomly()"
      ]
    },
    {
      "cell_type": "markdown",
      "metadata": {
        "id": "eGbGB-cJvLqf"
      },
      "source": [
        "# Visualizing attention\n",
        "\n",
        "A useful property of the attention mechanism is its highly interpretable outputs. Because it is used to weight specific encoder outputs of the input sequence, we can imagine looking where the network is focused most at each time step.\n",
        "\n",
        "You could simply run `plt.matshow(attentions)` to see attention output displayed as a matrix, with the columns being input steps and rows being output steps:"
      ]
    },
    {
      "cell_type": "code",
      "execution_count": 39,
      "metadata": {
        "id": "lS3FtPJPvLqf"
      },
      "outputs": [
        {
          "data": {
            "text/plain": [
              "<matplotlib.image.AxesImage at 0x243fb120370>"
            ]
          },
          "execution_count": 39,
          "metadata": {},
          "output_type": "execute_result"
        },
        {
          "data": {
            "image/png": "[encoded data removed]",
            "text/plain": [
              "<Figure size 480x480 with 1 Axes>"
            ]
          },
          "metadata": {},
          "output_type": "display_data"
        }
      ],
      "source": [
        "output_words, attentions = evaluate(\"je suis trop froid .\")\n",
        "plt.matshow(attentions.numpy())"
      ]
    },
    {
      "cell_type": "markdown",
      "metadata": {
        "id": "WFIG1nKYvLqg"
      },
      "source": [
        "For a better viewing experience we will do the extra work of adding axes and labels:"
      ]
    },
    {
      "cell_type": "code",
      "execution_count": 40,
      "metadata": {
        "id": "W-1GR3LFvLqg"
      },
      "outputs": [],
      "source": [
        "def show_attention(input_sentence, output_words, attentions):\n",
        "    # Set up figure with colorbar\n",
        "    fig = plt.figure()\n",
        "    ax = fig.add_subplot(111)\n",
        "    cax = ax.matshow(attentions.numpy(), cmap='bone')\n",
        "    fig.colorbar(cax)\n",
        "\n",
        "    # Set up axes\n",
        "    ax.set_xticklabels([''] + input_sentence.split(' ') + ['<EOS>'], rotation=90)\n",
        "    ax.set_yticklabels([''] + output_words)\n",
        "\n",
        "    # Show label at every tick\n",
        "    ax.xaxis.set_major_locator(ticker.MultipleLocator(1))\n",
        "    ax.yaxis.set_major_locator(ticker.MultipleLocator(1))\n",
        "\n",
        "    plt.show()\n",
        "    plt.close()\n",
        "\n",
        "def evaluate_and_show_attention(input_sentence):\n",
        "    output_words, attentions = evaluate(input_sentence)\n",
        "    print('input =', input_sentence)\n",
        "    print('output =', ' '.join(output_words))\n",
        "    show_attention(input_sentence, output_words, attentions)"
      ]
    },
    {
      "cell_type": "code",
      "execution_count": 53,
      "metadata": {
        "id": "ZmhOJI-YvLqg"
      },
      "outputs": [
        {
          "name": "stdout",
          "output_type": "stream",
          "text": [
            "input = elle a cinq ans de moins que moi .\n",
            "output = she is older years than me . <EOS>\n"
          ]
        },
        {
          "name": "stderr",
          "output_type": "stream",
          "text": [
            "C:\\Users\\seawo\\AppData\\Local\\Temp\\ipykernel_13248\\1256380214.py:9: UserWarning: set_ticklabels() should only be used with a fixed number of ticks, i.e. after set_ticks() or using a FixedLocator.\n",
            "  ax.set_xticklabels([''] + input_sentence.split(' ') + ['<EOS>'], rotation=90)\n",
            "C:\\Users\\seawo\\AppData\\Local\\Temp\\ipykernel_13248\\1256380214.py:10: UserWarning: set_ticklabels() should only be used with a fixed number of ticks, i.e. after set_ticks() or using a FixedLocator.\n",
            "  ax.set_yticklabels([''] + output_words)\n"
          ]
        },
        {
          "data": {
            "image/png": "[encoded data removed]",
            "text/plain": [
              "<Figure size 640x480 with 2 Axes>"
            ]
          },
          "metadata": {},
          "output_type": "display_data"
        }
      ],
      "source": [
        "evaluate_and_show_attention(\"elle a cinq ans de moins que moi .\")"
      ]
    },
    {
      "cell_type": "code",
      "execution_count": 54,
      "metadata": {
        "id": "xNFcAHTlvLqg"
      },
      "outputs": [
        {
          "name": "stdout",
          "output_type": "stream",
          "text": [
            "input = elle est trop petit .\n",
            "output = she is too too . <EOS>\n"
          ]
        },
        {
          "name": "stderr",
          "output_type": "stream",
          "text": [
            "C:\\Users\\seawo\\AppData\\Local\\Temp\\ipykernel_13248\\1256380214.py:9: UserWarning: set_ticklabels() should only be used with a fixed number of ticks, i.e. after set_ticks() or using a FixedLocator.\n",
            "  ax.set_xticklabels([''] + input_sentence.split(' ') + ['<EOS>'], rotation=90)\n",
            "C:\\Users\\seawo\\AppData\\Local\\Temp\\ipykernel_13248\\1256380214.py:10: UserWarning: set_ticklabels() should only be used with a fixed number of ticks, i.e. after set_ticks() or using a FixedLocator.\n",
            "  ax.set_yticklabels([''] + output_words)\n"
          ]
        },
        {
          "data": {
            "image/png": "[encoded data removed]",
            "text/plain": [
              "<Figure size 640x480 with 2 Axes>"
            ]
          },
          "metadata": {},
          "output_type": "display_data"
        }
      ],
      "source": [
        "evaluate_and_show_attention(\"elle est trop petit .\")"
      ]
    },
    {
      "cell_type": "code",
      "execution_count": 55,
      "metadata": {
        "id": "FZVbu1DpvLqg"
      },
      "outputs": [
        {
          "name": "stdout",
          "output_type": "stream",
          "text": [
            "input = je ne crains pas de mourir .\n",
            "output = i don t want to die . <EOS>\n"
          ]
        },
        {
          "name": "stderr",
          "output_type": "stream",
          "text": [
            "C:\\Users\\seawo\\AppData\\Local\\Temp\\ipykernel_13248\\1256380214.py:9: UserWarning: set_ticklabels() should only be used with a fixed number of ticks, i.e. after set_ticks() or using a FixedLocator.\n",
            "  ax.set_xticklabels([''] + input_sentence.split(' ') + ['<EOS>'], rotation=90)\n",
            "C:\\Users\\seawo\\AppData\\Local\\Temp\\ipykernel_13248\\1256380214.py:10: UserWarning: set_ticklabels() should only be used with a fixed number of ticks, i.e. after set_ticks() or using a FixedLocator.\n",
            "  ax.set_yticklabels([''] + output_words)\n"
          ]
        },
        {
          "data": {
            "image/png": "[encoded data removed]",
            "text/plain": [
              "<Figure size 640x480 with 2 Axes>"
            ]
          },
          "metadata": {},
          "output_type": "display_data"
        }
      ],
      "source": [
        "evaluate_and_show_attention(\"je ne crains pas de mourir .\")"
      ]
    },
    {
      "cell_type": "code",
      "execution_count": 56,
      "metadata": {
        "id": "SyfH3gM9vLqg"
      },
      "outputs": [
        {
          "name": "stdout",
          "output_type": "stream",
          "text": [
            "input = c est un jeune directeur plein de talent .\n",
            "output = he s a good young and see . <EOS>\n"
          ]
        },
        {
          "name": "stderr",
          "output_type": "stream",
          "text": [
            "C:\\Users\\seawo\\AppData\\Local\\Temp\\ipykernel_13248\\1256380214.py:9: UserWarning: set_ticklabels() should only be used with a fixed number of ticks, i.e. after set_ticks() or using a FixedLocator.\n",
            "  ax.set_xticklabels([''] + input_sentence.split(' ') + ['<EOS>'], rotation=90)\n",
            "C:\\Users\\seawo\\AppData\\Local\\Temp\\ipykernel_13248\\1256380214.py:10: UserWarning: set_ticklabels() should only be used with a fixed number of ticks, i.e. after set_ticks() or using a FixedLocator.\n",
            "  ax.set_yticklabels([''] + output_words)\n"
          ]
        },
        {
          "data": {
            "image/png": "[encoded data removed]",
            "text/plain": [
              "<Figure size 640x480 with 2 Axes>"
            ]
          },
          "metadata": {},
          "output_type": "display_data"
        }
      ],
      "source": [
        "evaluate_and_show_attention(\"c est un jeune directeur plein de talent .\")"
      ]
    },
    {
      "cell_type": "code",
      "execution_count": null,
      "metadata": {
        "collapsed": true,
        "id": "scDi5AYuvLqh"
      },
      "outputs": [],
      "source": []
    }
  ],
  "metadata": {
    "anaconda-cloud": {},
    "colab": {
      "provenance": []
    },
    "kernelspec": {
      "display_name": "Python 3",
      "language": "python",
      "name": "python3"
    },
    "language_info": {
      "codemirror_mode": {
        "name": "ipython",
        "version": 3
      },
      "file_extension": ".py",
      "mimetype": "text/x-python",
      "name": "python",
      "nbconvert_exporter": "python",
      "pygments_lexer": "ipython3",
      "version": "3.9.1rc1"
    }
  },
  "nbformat": 4,
  "nbformat_minor": 0
}
